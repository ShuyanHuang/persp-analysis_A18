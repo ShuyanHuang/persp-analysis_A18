{
 "cells": [
  {
   "cell_type": "markdown",
   "metadata": {},
   "source": [
    "by Shuyan Huang"
   ]
  },
  {
   "cell_type": "markdown",
   "metadata": {},
   "source": [
    "# Imputing age and gender"
   ]
  },
  {
   "cell_type": "markdown",
   "metadata": {},
   "source": [
    "## (a) \n",
    "Using the survey dataset, we can estimate models to predict gender and age by weight and total income, and then plug in weight and (labor income + capital income) in the BestIncome.txt dataset to impute gender and age. Here we assume that total income = labor income + capital income. We use log-linear model to predict gender and linear model to predict age. Following are our model equations:\n",
    "\n",
    "$log(\\frac{p(female_i)}{1-p(female_i)}) = \\alpha_1 + \\beta_{11} tot\\_inc_i + \\beta_{12} wgt_i$\n",
    "\n",
    "$age_i = \\alpha_2 + \\beta_{21} tot\\_inc_i + \\beta_{22} wgt_i$\n",
    "\n",
    "Where $tot\\_inc_i = lab\\_inc_i+cap\\_inc_i$\n",
    "\n",
    "## (b)"
   ]
  },
  {
   "cell_type": "code",
   "execution_count": 1,
   "metadata": {},
   "outputs": [
    {
     "name": "stdout",
     "output_type": "stream",
     "text": [
      "Optimization terminated successfully.\n",
      "         Current function value: 0.036050\n",
      "         Iterations 11\n"
     ]
    }
   ],
   "source": [
    "import pandas as pd\n",
    "import numpy as np\n",
    "import statsmodels.api as sm\n",
    "BestIncome = pd.read_csv('BestIncome.txt', header=None)\n",
    "SurvIncome = pd.read_csv('SurvIncome.txt', header=None)\n",
    "Best_ary = BestIncome.values\n",
    "Surv_ary = SurvIncome.values\n",
    "Surv_female = Surv_ary[:,3]\n",
    "Surv_age = Surv_ary[:,2]\n",
    "Surv_x = Surv_ary[:,:2]\n",
    "Surv_x = sm.add_constant(Surv_x)\n",
    "\n",
    "model_female = sm.Logit(Surv_female,Surv_x).fit()\n",
    "model_age = sm.OLS(Surv_age,Surv_x).fit()\n",
    "\n",
    "Best_x = np.transpose([Best_ary[:,0]+Best_ary[:,1],Best_ary[:,3]])\n",
    "Best_x = sm.add_constant(Best_x)\n",
    "Best_female = model_female.predict(Best_x)\n",
    "Best_female = np.array(list(map(lambda p: 0 if p<0.5 else 1, Best_female)))\n",
    "Best_age = model_age.predict(Best_x)"
   ]
  },
  {
   "cell_type": "markdown",
   "metadata": {},
   "source": [
    "## (c)"
   ]
  },
  {
   "cell_type": "code",
   "execution_count": 2,
   "metadata": {},
   "outputs": [
    {
     "data": {
      "text/plain": [
       "{'mean': 44.890828412990999,\n",
       " 'std': 0.21913910572901438,\n",
       " 'min': 43.976494892939144,\n",
       " 'max': 45.703819001557932,\n",
       " 'nob': 10000}"
      ]
     },
     "execution_count": 2,
     "metadata": {},
     "output_type": "execute_result"
    }
   ],
   "source": [
    "def descripstats(v):\n",
    "    return {'mean':np.mean(v), 'std':np.std(v), 'min':min(v), 'max':max(v), 'nob':v.shape[0]}\n",
    "\n",
    "descripstats(Best_age)"
   ]
  },
  {
   "cell_type": "code",
   "execution_count": 3,
   "metadata": {},
   "outputs": [
    {
     "data": {
      "text/plain": [
       "{'mean': 0.4546, 'std': 0.49793457401550256, 'min': 0, 'max': 1, 'nob': 10000}"
      ]
     },
     "execution_count": 3,
     "metadata": {},
     "output_type": "execute_result"
    }
   ],
   "source": [
    "Best_female = np.array(Best_female)\n",
    "descripstats(Best_female)"
   ]
  },
  {
   "cell_type": "markdown",
   "metadata": {},
   "source": [
    "## (d)"
   ]
  },
  {
   "cell_type": "code",
   "execution_count": 4,
   "metadata": {},
   "outputs": [],
   "source": [
    "Best_new = np.concatenate((Best_ary, np.transpose([Best_age, Best_female])),axis=1)"
   ]
  },
  {
   "cell_type": "code",
   "execution_count": 5,
   "metadata": {},
   "outputs": [
    {
     "data": {
      "text/plain": [
       "array([[ 1.        ,  0.99907936,  0.99965113, ...,  0.99633716,\n",
       "         0.99965026,  0.99348508],\n",
       "       [ 0.99907936,  1.        ,  0.99986386, ...,  0.99175163,\n",
       "         0.99986445,  0.98768175],\n",
       "       [ 0.99965113,  0.99986386,  1.        , ...,  0.99373098,\n",
       "         0.99999997,  0.99012846],\n",
       "       ..., \n",
       "       [ 0.99633716,  0.99175163,  0.99373098, ...,  1.        ,\n",
       "         0.99372741,  0.99959121],\n",
       "       [ 0.99965026,  0.99986445,  0.99999997, ...,  0.99372741,\n",
       "         1.        ,  0.99012401],\n",
       "       [ 0.99348508,  0.98768175,  0.99012846, ...,  0.99959121,\n",
       "         0.99012401,  1.        ]])"
      ]
     },
     "execution_count": 5,
     "metadata": {},
     "output_type": "execute_result"
    }
   ],
   "source": [
    "np.corrcoef(Best_new)"
   ]
  },
  {
   "cell_type": "markdown",
   "metadata": {},
   "source": [
    "# Stationary and data drfit"
   ]
  },
  {
   "cell_type": "markdown",
   "metadata": {},
   "source": [
    "## (a)"
   ]
  },
  {
   "cell_type": "code",
   "execution_count": 25,
   "metadata": {},
   "outputs": [
    {
     "data": {
      "text/html": [
       "<table class=\"simpletable\">\n",
       "<caption>OLS Regression Results</caption>\n",
       "<tr>\n",
       "  <th>Dep. Variable:</th>            <td>y</td>        <th>  R-squared:         </th> <td>   0.263</td> \n",
       "</tr>\n",
       "<tr>\n",
       "  <th>Model:</th>                   <td>OLS</td>       <th>  Adj. R-squared:    </th> <td>   0.262</td> \n",
       "</tr>\n",
       "<tr>\n",
       "  <th>Method:</th>             <td>Least Squares</td>  <th>  F-statistic:       </th> <td>   356.3</td> \n",
       "</tr>\n",
       "<tr>\n",
       "  <th>Date:</th>             <td>Mon, 15 Oct 2018</td> <th>  Prob (F-statistic):</th> <td>3.43e-68</td> \n",
       "</tr>\n",
       "<tr>\n",
       "  <th>Time:</th>                 <td>12:17:33</td>     <th>  Log-Likelihood:    </th> <td> -10673.</td> \n",
       "</tr>\n",
       "<tr>\n",
       "  <th>No. Observations:</th>      <td>  1000</td>      <th>  AIC:               </th> <td>2.135e+04</td>\n",
       "</tr>\n",
       "<tr>\n",
       "  <th>Df Residuals:</th>          <td>   998</td>      <th>  BIC:               </th> <td>2.136e+04</td>\n",
       "</tr>\n",
       "<tr>\n",
       "  <th>Df Model:</th>              <td>     1</td>      <th>                     </th>     <td> </td>    \n",
       "</tr>\n",
       "<tr>\n",
       "  <th>Covariance Type:</th>      <td>nonrobust</td>    <th>                     </th>     <td> </td>    \n",
       "</tr>\n",
       "</table>\n",
       "<table class=\"simpletable\">\n",
       "<tr>\n",
       "    <td></td>       <th>coef</th>     <th>std err</th>      <th>t</th>      <th>P>|t|</th>  <th>[0.025</th>    <th>0.975]</th>  \n",
       "</tr>\n",
       "<tr>\n",
       "  <th>const</th> <td> 8.954e+04</td> <td>  878.764</td> <td>  101.895</td> <td> 0.000</td> <td> 8.78e+04</td> <td> 9.13e+04</td>\n",
       "</tr>\n",
       "<tr>\n",
       "  <th>x1</th>    <td>  -25.7632</td> <td>    1.365</td> <td>  -18.875</td> <td> 0.000</td> <td>  -28.442</td> <td>  -23.085</td>\n",
       "</tr>\n",
       "</table>\n",
       "<table class=\"simpletable\">\n",
       "<tr>\n",
       "  <th>Omnibus:</th>       <td> 9.118</td> <th>  Durbin-Watson:     </th> <td>   1.424</td>\n",
       "</tr>\n",
       "<tr>\n",
       "  <th>Prob(Omnibus):</th> <td> 0.010</td> <th>  Jarque-Bera (JB):  </th> <td>   9.100</td>\n",
       "</tr>\n",
       "<tr>\n",
       "  <th>Skew:</th>          <td> 0.230</td> <th>  Prob(JB):          </th> <td>  0.0106</td>\n",
       "</tr>\n",
       "<tr>\n",
       "  <th>Kurtosis:</th>      <td> 3.077</td> <th>  Cond. No.          </th> <td>1.71e+03</td>\n",
       "</tr>\n",
       "</table><br/><br/>Warnings:<br/>[1] Standard Errors assume that the covariance matrix of the errors is correctly specified.<br/>[2] The condition number is large, 1.71e+03. This might indicate that there are<br/>strong multicollinearity or other numerical problems."
      ],
      "text/plain": [
       "<class 'statsmodels.iolib.summary.Summary'>\n",
       "\"\"\"\n",
       "                            OLS Regression Results                            \n",
       "==============================================================================\n",
       "Dep. Variable:                      y   R-squared:                       0.263\n",
       "Model:                            OLS   Adj. R-squared:                  0.262\n",
       "Method:                 Least Squares   F-statistic:                     356.3\n",
       "Date:                Mon, 15 Oct 2018   Prob (F-statistic):           3.43e-68\n",
       "Time:                        12:17:33   Log-Likelihood:                -10673.\n",
       "No. Observations:                1000   AIC:                         2.135e+04\n",
       "Df Residuals:                     998   BIC:                         2.136e+04\n",
       "Df Model:                           1                                         \n",
       "Covariance Type:            nonrobust                                         \n",
       "==============================================================================\n",
       "                 coef    std err          t      P>|t|      [0.025      0.975]\n",
       "------------------------------------------------------------------------------\n",
       "const       8.954e+04    878.764    101.895      0.000    8.78e+04    9.13e+04\n",
       "x1           -25.7632      1.365    -18.875      0.000     -28.442     -23.085\n",
       "==============================================================================\n",
       "Omnibus:                        9.118   Durbin-Watson:                   1.424\n",
       "Prob(Omnibus):                  0.010   Jarque-Bera (JB):                9.100\n",
       "Skew:                           0.230   Prob(JB):                       0.0106\n",
       "Kurtosis:                       3.077   Cond. No.                     1.71e+03\n",
       "==============================================================================\n",
       "\n",
       "Warnings:\n",
       "[1] Standard Errors assume that the covariance matrix of the errors is correctly specified.\n",
       "[2] The condition number is large, 1.71e+03. This might indicate that there are\n",
       "strong multicollinearity or other numerical problems.\n",
       "\"\"\""
      ]
     },
     "execution_count": 25,
     "metadata": {},
     "output_type": "execute_result"
    }
   ],
   "source": [
    "IncomeIntel = pd.read_csv('IncomeIntel.txt', header=None)\n",
    "IncomeIntel_ary  = IncomeIntel.values\n",
    "gre_qnt = IncomeIntel_ary[:,1]\n",
    "salary_p4 = IncomeIntel_ary[:,2]\n",
    "x =  sm.add_constant(gre_qnt)\n",
    "\n",
    "model_incomeintel = sm.OLS(salary_p4, x).fit()\n",
    "\n",
    "model_incomeintel.summary()"
   ]
  },
  {
   "cell_type": "markdown",
   "metadata": {},
   "source": [
    "As can be seen from the summary chart, the estimated coefficients are $\\beta_0=89540$ and $\\beta_1=-25.7632$, the corresponding standard errors are 878.764 and 1.365\n",
    "\n",
    "## (b)"
   ]
  },
  {
   "cell_type": "code",
   "execution_count": 7,
   "metadata": {},
   "outputs": [
    {
     "data": {
      "text/plain": [
       "<matplotlib.collections.PathCollection at 0x111be7e48>"
      ]
     },
     "execution_count": 7,
     "metadata": {},
     "output_type": "execute_result"
    },
    {
     "data": {
      "image/png": "[encoded data removed]",
      "text/plain": [
       "<Figure size 432x288 with 1 Axes>"
      ]
     },
     "metadata": {},
     "output_type": "display_data"
    }
   ],
   "source": [
    "import matplotlib.pyplot as plt\n",
    "plt.scatter(IncomeIntel_ary[:,0], gre_qnt)"
   ]
  },
  {
   "cell_type": "markdown",
   "metadata": {},
   "source": [
    "A drift in the GRE quantitative score scale happened in 2011, which will affect the estimated coefficients and the statistical significance of the regression results. A change in variable scale means that the coefficients in the two time period are different. A solution to this problem is to standardize the GRE quantitative score by z score within each year. Instead of using the raw score, we use the relative score, which is not affected by the change of scale."
   ]
  },
  {
   "cell_type": "code",
   "execution_count": 26,
   "metadata": {},
   "outputs": [],
   "source": [
    "IncomeIntel.columns = ['grad_year', 'gre_qnt', 'salary_p4']"
   ]
  },
  {
   "cell_type": "code",
   "execution_count": 27,
   "metadata": {},
   "outputs": [],
   "source": [
    "IncomeIntel['gre_qnt'] = IncomeIntel.groupby('grad_year').transform(lambda x: (x - x.mean()) / x.std())['gre_qnt']\n",
    "\n",
    "gre_qnt_new = IncomeIntel['gre_qnt'].values\n",
    "\n",
    "x_new =  sm.add_constant(gre_qnt_new)"
   ]
  },
  {
   "cell_type": "markdown",
   "metadata": {},
   "source": [
    "## (c)"
   ]
  },
  {
   "cell_type": "code",
   "execution_count": 10,
   "metadata": {},
   "outputs": [
    {
     "data": {
      "text/plain": [
       "<matplotlib.collections.PathCollection at 0x1c18204898>"
      ]
     },
     "execution_count": 10,
     "metadata": {},
     "output_type": "execute_result"
    },
    {
     "data": {
      "image/png": "[encoded data removed]",
      "text/plain": [
       "<Figure size 432x288 with 1 Axes>"
      ]
     },
     "metadata": {},
     "output_type": "display_data"
    }
   ],
   "source": [
    "plt.scatter(IncomeIntel_ary[:,0], salary_p4)"
   ]
  },
  {
   "cell_type": "code",
   "execution_count": 28,
   "metadata": {},
   "outputs": [
    {
     "data": {
      "text/html": [
       "<div>\n",
       "<style scoped>\n",
       "    .dataframe tbody tr th:only-of-type {\n",
       "        vertical-align: middle;\n",
       "    }\n",
       "\n",
       "    .dataframe tbody tr th {\n",
       "        vertical-align: top;\n",
       "    }\n",
       "\n",
       "    .dataframe thead th {\n",
       "        text-align: right;\n",
       "    }\n",
       "</style>\n",
       "<table border=\"1\" class=\"dataframe\">\n",
       "  <thead>\n",
       "    <tr style=\"text-align: right;\">\n",
       "      <th></th>\n",
       "      <th>gre_qnt</th>\n",
       "      <th>salary_p4</th>\n",
       "    </tr>\n",
       "    <tr>\n",
       "      <th>grad_year</th>\n",
       "      <th></th>\n",
       "      <th></th>\n",
       "    </tr>\n",
       "  </thead>\n",
       "  <tbody>\n",
       "    <tr>\n",
       "      <th>2001.0</th>\n",
       "      <td>-2.145470e-15</td>\n",
       "      <td>60710.709145</td>\n",
       "    </tr>\n",
       "    <tr>\n",
       "      <th>2002.0</th>\n",
       "      <td>-5.716207e-15</td>\n",
       "      <td>63034.403163</td>\n",
       "    </tr>\n",
       "    <tr>\n",
       "      <th>2003.0</th>\n",
       "      <td>1.826533e-14</td>\n",
       "      <td>64518.742574</td>\n",
       "    </tr>\n",
       "    <tr>\n",
       "      <th>2004.0</th>\n",
       "      <td>-9.434012e-15</td>\n",
       "      <td>67773.493082</td>\n",
       "    </tr>\n",
       "    <tr>\n",
       "      <th>2005.0</th>\n",
       "      <td>2.462677e-15</td>\n",
       "      <td>70492.592106</td>\n",
       "    </tr>\n",
       "    <tr>\n",
       "      <th>2006.0</th>\n",
       "      <td>4.414939e-15</td>\n",
       "      <td>71678.244222</td>\n",
       "    </tr>\n",
       "    <tr>\n",
       "      <th>2007.0</th>\n",
       "      <td>-1.016791e-14</td>\n",
       "      <td>72133.654215</td>\n",
       "    </tr>\n",
       "    <tr>\n",
       "      <th>2008.0</th>\n",
       "      <td>2.304073e-15</td>\n",
       "      <td>76432.580321</td>\n",
       "    </tr>\n",
       "    <tr>\n",
       "      <th>2009.0</th>\n",
       "      <td>-1.651781e-14</td>\n",
       "      <td>79030.629132</td>\n",
       "    </tr>\n",
       "    <tr>\n",
       "      <th>2010.0</th>\n",
       "      <td>-5.591126e-15</td>\n",
       "      <td>81741.297377</td>\n",
       "    </tr>\n",
       "    <tr>\n",
       "      <th>2011.0</th>\n",
       "      <td>1.052910e-14</td>\n",
       "      <td>83563.850070</td>\n",
       "    </tr>\n",
       "    <tr>\n",
       "      <th>2012.0</th>\n",
       "      <td>-7.501034e-15</td>\n",
       "      <td>86012.586076</td>\n",
       "    </tr>\n",
       "    <tr>\n",
       "      <th>2013.0</th>\n",
       "      <td>-3.110816e-15</td>\n",
       "      <td>87300.521093</td>\n",
       "    </tr>\n",
       "  </tbody>\n",
       "</table>\n",
       "</div>"
      ],
      "text/plain": [
       "                gre_qnt     salary_p4\n",
       "grad_year                            \n",
       "2001.0    -2.145470e-15  60710.709145\n",
       "2002.0    -5.716207e-15  63034.403163\n",
       "2003.0     1.826533e-14  64518.742574\n",
       "2004.0    -9.434012e-15  67773.493082\n",
       "2005.0     2.462677e-15  70492.592106\n",
       "2006.0     4.414939e-15  71678.244222\n",
       "2007.0    -1.016791e-14  72133.654215\n",
       "2008.0     2.304073e-15  76432.580321\n",
       "2009.0    -1.651781e-14  79030.629132\n",
       "2010.0    -5.591126e-15  81741.297377\n",
       "2011.0     1.052910e-14  83563.850070\n",
       "2012.0    -7.501034e-15  86012.586076\n",
       "2013.0    -3.110816e-15  87300.521093"
      ]
     },
     "execution_count": 28,
     "metadata": {},
     "output_type": "execute_result"
    }
   ],
   "source": [
    " IncomeIntel.groupby('grad_year').mean()"
   ]
  },
  {
   "cell_type": "markdown",
   "metadata": {},
   "source": [
    "From the scatter plot and the chart above, we can see that the mean of the salary over years are changing. To make the salary data stationary over time, we first calculate the average growth rate of the salary $g$, and then standardize the salary by the following equation:\n",
    "\n",
    "$standardized(salary_{ti}) = salary_{ti} /(1+g)^{t-2001}$"
   ]
  },
  {
   "cell_type": "code",
   "execution_count": 38,
   "metadata": {},
   "outputs": [],
   "source": [
    "mean_vec = IncomeIntel.groupby('grad_year').mean()['salary_p4'].values\n",
    "\n",
    "g = np.mean((mean_vec[1:]-mean_vec[:-1])/mean_vec[:-1])\n",
    "\n",
    "IncomeIntel['salary_p4'] = IncomeIntel['salary_p4']/(1+g)**(IncomeIntel['grad_year']-2001)\n",
    "\n",
    "salary_p4_new = IncomeIntel['salary_p4']"
   ]
  },
  {
   "cell_type": "markdown",
   "metadata": {},
   "source": [
    "## (d)"
   ]
  },
  {
   "cell_type": "code",
   "execution_count": 39,
   "metadata": {},
   "outputs": [
    {
     "data": {
      "text/html": [
       "<table class=\"simpletable\">\n",
       "<caption>OLS Regression Results</caption>\n",
       "<tr>\n",
       "  <th>Dep. Variable:</th>        <td>salary_p4</td>    <th>  R-squared:         </th> <td>   0.000</td> \n",
       "</tr>\n",
       "<tr>\n",
       "  <th>Model:</th>                   <td>OLS</td>       <th>  Adj. R-squared:    </th> <td>  -0.001</td> \n",
       "</tr>\n",
       "<tr>\n",
       "  <th>Method:</th>             <td>Least Squares</td>  <th>  F-statistic:       </th> <td>  0.4395</td> \n",
       "</tr>\n",
       "<tr>\n",
       "  <th>Date:</th>             <td>Mon, 15 Oct 2018</td> <th>  Prob (F-statistic):</th>  <td> 0.508</td>  \n",
       "</tr>\n",
       "<tr>\n",
       "  <th>Time:</th>                 <td>12:22:38</td>     <th>  Log-Likelihood:    </th> <td> -10291.</td> \n",
       "</tr>\n",
       "<tr>\n",
       "  <th>No. Observations:</th>      <td>  1000</td>      <th>  AIC:               </th> <td>2.059e+04</td>\n",
       "</tr>\n",
       "<tr>\n",
       "  <th>Df Residuals:</th>          <td>   998</td>      <th>  BIC:               </th> <td>2.060e+04</td>\n",
       "</tr>\n",
       "<tr>\n",
       "  <th>Df Model:</th>              <td>     1</td>      <th>                     </th>     <td> </td>    \n",
       "</tr>\n",
       "<tr>\n",
       "  <th>Covariance Type:</th>      <td>nonrobust</td>    <th>                     </th>     <td> </td>    \n",
       "</tr>\n",
       "</table>\n",
       "<table class=\"simpletable\">\n",
       "<tr>\n",
       "    <td></td>       <th>coef</th>     <th>std err</th>      <th>t</th>      <th>P>|t|</th>  <th>[0.025</th>    <th>0.975]</th>  \n",
       "</tr>\n",
       "<tr>\n",
       "  <th>const</th> <td> 6.142e+04</td> <td>  225.711</td> <td>  272.117</td> <td> 0.000</td> <td>  6.1e+04</td> <td> 6.19e+04</td>\n",
       "</tr>\n",
       "<tr>\n",
       "  <th>x1</th>    <td> -150.6097</td> <td>  227.193</td> <td>   -0.663</td> <td> 0.508</td> <td> -596.440</td> <td>  295.221</td>\n",
       "</tr>\n",
       "</table>\n",
       "<table class=\"simpletable\">\n",
       "<tr>\n",
       "  <th>Omnibus:</th>       <td> 0.776</td> <th>  Durbin-Watson:     </th> <td>   2.025</td>\n",
       "</tr>\n",
       "<tr>\n",
       "  <th>Prob(Omnibus):</th> <td> 0.678</td> <th>  Jarque-Bera (JB):  </th> <td>   0.687</td>\n",
       "</tr>\n",
       "<tr>\n",
       "  <th>Skew:</th>          <td> 0.059</td> <th>  Prob(JB):          </th> <td>   0.709</td>\n",
       "</tr>\n",
       "<tr>\n",
       "  <th>Kurtosis:</th>      <td> 3.049</td> <th>  Cond. No.          </th> <td>    1.01</td>\n",
       "</tr>\n",
       "</table><br/><br/>Warnings:<br/>[1] Standard Errors assume that the covariance matrix of the errors is correctly specified."
      ],
      "text/plain": [
       "<class 'statsmodels.iolib.summary.Summary'>\n",
       "\"\"\"\n",
       "                            OLS Regression Results                            \n",
       "==============================================================================\n",
       "Dep. Variable:              salary_p4   R-squared:                       0.000\n",
       "Model:                            OLS   Adj. R-squared:                 -0.001\n",
       "Method:                 Least Squares   F-statistic:                    0.4395\n",
       "Date:                Mon, 15 Oct 2018   Prob (F-statistic):              0.508\n",
       "Time:                        12:22:38   Log-Likelihood:                -10291.\n",
       "No. Observations:                1000   AIC:                         2.059e+04\n",
       "Df Residuals:                     998   BIC:                         2.060e+04\n",
       "Df Model:                           1                                         \n",
       "Covariance Type:            nonrobust                                         \n",
       "==============================================================================\n",
       "                 coef    std err          t      P>|t|      [0.025      0.975]\n",
       "------------------------------------------------------------------------------\n",
       "const       6.142e+04    225.711    272.117      0.000     6.1e+04    6.19e+04\n",
       "x1          -150.6097    227.193     -0.663      0.508    -596.440     295.221\n",
       "==============================================================================\n",
       "Omnibus:                        0.776   Durbin-Watson:                   2.025\n",
       "Prob(Omnibus):                  0.678   Jarque-Bera (JB):                0.687\n",
       "Skew:                           0.059   Prob(JB):                        0.709\n",
       "Kurtosis:                       3.049   Cond. No.                         1.01\n",
       "==============================================================================\n",
       "\n",
       "Warnings:\n",
       "[1] Standard Errors assume that the covariance matrix of the errors is correctly specified.\n",
       "\"\"\""
      ]
     },
     "execution_count": 39,
     "metadata": {},
     "output_type": "execute_result"
    }
   ],
   "source": [
    "model_incomeintel_new = sm.OLS(salary_p4_new, x_new).fit()\n",
    "\n",
    "model_incomeintel_new.summary()"
   ]
  },
  {
   "cell_type": "markdown",
   "metadata": {},
   "source": [
    "As can be seen from the summary chart, the estimated coefficients are $\\beta_0=61420$ and $\\beta_1=-150.6097$, the corresponding standard errors are 225.711 and 227.193. $\\beta_0$ and its std don't change much but the scale of $\\beta_1$ and its std in the new regression is larger than that of the original regression. That's because the standardization we did to the GRE quantitative score decreased the scale of this data by over 100 times, while the standardization we did to the salary didn't change the overall scale of it. Since the coefficient $\\beta_1$ is not statistically significant, the regression result gives no evidence that higher intelligence is associated with higher income."
   ]
  },
  {
   "cell_type": "markdown",
   "metadata": {},
   "source": [
    "# Assessment of Koissinets and Watts"
   ]
  },
  {
   "cell_type": "markdown",
   "metadata": {},
   "source": [
    "\n",
    "This paper mainly answers the following research question: What roles do choice homophily and induced homophily play in the emergence of homophily (the observed tendency of people associating with similar people) through the process of individuals in a social network seletively make or break ties with others?\n",
    "\n",
    "To address this quesiton, the paper explored the data based on the population of 30,396 undergraduate and graduate students, faculty, and staff in a large U.S. university, consisting of 3 datasets: \n",
    "\n",
    "1. the logs of e-mail interactions within the university over one academic year, \n",
    "\n",
    "2. a database of individual attributes (status, gender, age, department, number of years in the community, etc.),\n",
    "\n",
    "3. records of course registration\n",
    "\n",
    "The number of observations is 30396 for personal characteristics, organizational affiliations, and course-related variables. The total number of email interaction is 7,156,162. And the time period of the data is 270 days. In APPENDIX A, we can find a description and definition of all variables.\n",
    "\n",
    "During the data cleaning process, a potential problem was that the authors included only email messages that were sent to a single recipient, to ensure that the data represent interpersonal communication. This cleared away about 18% of all emails. But in a university context, group emails actually contain a lot of interpersonal communication. For example professors often email their research assistant in a group rather than in person, so that people in the group will know what each other is doing. This might be a unique type of interpersonal communication and eliminating it can lead to loss of a propable source of homophily.\n",
    "\n",
    "The difficulty of matching the email data to the theoretical construct of \"social relationships\" lies in the discrete and intermittent feature of email exchanges. It's hard to decide the timing of the formation and dissolution a social link based on a \"bursty\" time series of email exchanges between two persons. To address this problem, the authors defined the instantaneous strength of a dyad at time t based on the number of email exchanges in time window $\\tau$ and sampling period $\\delta$. By carefully choosing $\\tau$, they decide the maximum time at which a past interaction is assumed to contribute to the current strength of relationship. And $\\delta$ determines whether events separated in time will be treated as sequential or as simultaneous with one another."
   ]
  }
 ],
 "metadata": {
  "kernelspec": {
   "display_name": "Python 3",
   "language": "python",
   "name": "python3"
  },
  "language_info": {
   "codemirror_mode": {
    "name": "ipython",
    "version": 3
   },
   "file_extension": ".py",
   "mimetype": "text/x-python",
   "name": "python",
   "nbconvert_exporter": "python",
   "pygments_lexer": "ipython3",
   "version": "3.6.5"
  }
 },
 "nbformat": 4,
 "nbformat_minor": 2
}
