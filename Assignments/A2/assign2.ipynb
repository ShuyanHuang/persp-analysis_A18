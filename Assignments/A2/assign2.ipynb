{
 "cells": [
  {
   "cell_type": "markdown",
   "metadata": {},
   "source": [
    "by Shuyan Huang"
   ]
  },
  {
   "cell_type": "markdown",
   "metadata": {},
   "source": [
    "# Imputing age and gender"
   ]
  },
  {
   "cell_type": "markdown",
   "metadata": {},
   "source": [
    "## (a) \n",
    "Using the survey dataset, we can estimate models to predict gender and age by weight and total income, and then plug in weight and (labor income + capital income) in the BestIncome.txt dataset to impute gender and age. Here we assume that total income = labor income + capital income. We use log-linear model to predict gender and linear model to predict age. Following are our model equations:\n",
    "\n",
    "$log(\\frac{p(female_i)}{1-p(female_i)}) = \\alpha_1 + \\beta_{11} tot\\_inc_i + \\beta_{12} wgt_i$\n",
    "\n",
    "$age_i = \\alpha_2 + \\beta_{21} tot\\_inc_i + \\beta_{22} wgt_i$\n",
    "\n",
    "Where $tot\\_inc_i = lab\\_inc_i+cap\\_inc_i$\n",
    "\n",
    "## (b)"
   ]
  },
  {
   "cell_type": "code",
   "execution_count": 1,
   "metadata": {},
   "outputs": [
    {
     "name": "stdout",
     "output_type": "stream",
     "text": [
      "Optimization terminated successfully.\n",
      "         Current function value: 0.036050\n",
      "         Iterations 11\n"
     ]
    }
   ],
   "source": [
    "import pandas as pd\n",
    "import numpy as np\n",
    "import statsmodels.api as sm\n",
    "BestIncome = pd.read_csv('BestIncome.txt', header=None)\n",
    "SurvIncome = pd.read_csv('SurvIncome.txt', header=None)\n",
    "Best_ary = BestIncome.values\n",
    "Surv_ary = SurvIncome.values\n",
    "Surv_female = Surv_ary[:,3]\n",
    "Surv_age = Surv_ary[:,2]\n",
    "Surv_x = Surv_ary[:,:2]\n",
    "Surv_x = sm.add_constant(Surv_x)\n",
    "\n",
    "model_female = sm.Logit(Surv_female,Surv_x).fit()\n",
    "model_age = sm.OLS(Surv_age,Surv_x).fit()\n",
    "\n",
    "Best_x = np.transpose([Best_ary[:,0]+Best_ary[:,1],Best_ary[:,3]])\n",
    "Best_x = sm.add_constant(Best_x)\n",
    "Best_female = model_female.predict(Best_x)\n",
    "Best_female = np.array(list(map(lambda p: 0 if p<0.5 else 1, Best_female)))\n",
    "Best_age = model_age.predict(Best_x)"
   ]
  },
  {
   "cell_type": "markdown",
   "metadata": {},
   "source": [
    "## (c)"
   ]
  },
  {
   "cell_type": "code",
   "execution_count": 2,
   "metadata": {},
   "outputs": [
    {
     "data": {
      "text/plain": [
       "{'mean': 44.890828412990999,\n",
       " 'std': 0.21913910572901438,\n",
       " 'min': 43.976494892939144,\n",
       " 'max': 45.703819001557932,\n",
       " 'nob': 10000}"
      ]
     },
     "execution_count": 2,
     "metadata": {},
     "output_type": "execute_result"
    }
   ],
   "source": [
    "def descripstats(v):\n",
    "    return {'mean':np.mean(v), 'std':np.std(v), 'min':min(v), 'max':max(v), 'nob':v.shape[0]}\n",
    "\n",
    "descripstats(Best_age)"
   ]
  },
  {
   "cell_type": "code",
   "execution_count": 3,
   "metadata": {},
   "outputs": [
    {
     "data": {
      "text/plain": [
       "{'mean': 0.4546, 'std': 0.49793457401550256, 'min': 0, 'max': 1, 'nob': 10000}"
      ]
     },
     "execution_count": 3,
     "metadata": {},
     "output_type": "execute_result"
    }
   ],
   "source": [
    "Best_female = np.array(Best_female)\n",
    "descripstats(Best_female)"
   ]
  },
  {
   "cell_type": "markdown",
   "metadata": {},
   "source": [
    "## (d)"
   ]
  },
  {
   "cell_type": "code",
   "execution_count": 4,
   "metadata": {},
   "outputs": [],
   "source": [
    "Best_new = np.concatenate((Best_ary, np.transpose([Best_age, Best_female])),axis=1)"
   ]
  },
  {
   "cell_type": "code",
   "execution_count": 5,
   "metadata": {},
   "outputs": [
    {
     "data": {
      "text/plain": [
       "array([[ 1.        ,  0.99907936,  0.99965113, ...,  0.99633716,\n",
       "         0.99965026,  0.99348508],\n",
       "       [ 0.99907936,  1.        ,  0.99986386, ...,  0.99175163,\n",
       "         0.99986445,  0.98768175],\n",
       "       [ 0.99965113,  0.99986386,  1.        , ...,  0.99373098,\n",
       "         0.99999997,  0.99012846],\n",
       "       ..., \n",
       "       [ 0.99633716,  0.99175163,  0.99373098, ...,  1.        ,\n",
       "         0.99372741,  0.99959121],\n",
       "       [ 0.99965026,  0.99986445,  0.99999997, ...,  0.99372741,\n",
       "         1.        ,  0.99012401],\n",
       "       [ 0.99348508,  0.98768175,  0.99012846, ...,  0.99959121,\n",
       "         0.99012401,  1.        ]])"
      ]
     },
     "execution_count": 5,
     "metadata": {},
     "output_type": "execute_result"
    }
   ],
   "source": [
    "np.corrcoef(Best_new)"
   ]
  },
  {
   "cell_type": "markdown",
   "metadata": {},
   "source": [
    "# Stationary and data drfit"
   ]
  },
  {
   "cell_type": "markdown",
   "metadata": {},
   "source": [
    "## (a)"
   ]
  },
  {
   "cell_type": "code",
   "execution_count": 6,
   "metadata": {},
   "outputs": [
    {
     "data": {
      "text/html": [
       "<table class=\"simpletable\">\n",
       "<caption>OLS Regression Results</caption>\n",
       "<tr>\n",
       "  <th>Dep. Variable:</th>            <td>y</td>        <th>  R-squared:         </th> <td>   0.002</td> \n",
       "</tr>\n",
       "<tr>\n",
       "  <th>Model:</th>                   <td>OLS</td>       <th>  Adj. R-squared:    </th> <td>   0.001</td> \n",
       "</tr>\n",
       "<tr>\n",
       "  <th>Method:</th>             <td>Least Squares</td>  <th>  F-statistic:       </th> <td>   2.277</td> \n",
       "</tr>\n",
       "<tr>\n",
       "  <th>Date:</th>             <td>Thu, 11 Oct 2018</td> <th>  Prob (F-statistic):</th>  <td> 0.132</td>  \n",
       "</tr>\n",
       "<tr>\n",
       "  <th>Time:</th>                 <td>14:03:33</td>     <th>  Log-Likelihood:    </th> <td> -10507.</td> \n",
       "</tr>\n",
       "<tr>\n",
       "  <th>No. Observations:</th>      <td>  1000</td>      <th>  AIC:               </th> <td>2.102e+04</td>\n",
       "</tr>\n",
       "<tr>\n",
       "  <th>Df Residuals:</th>          <td>   998</td>      <th>  BIC:               </th> <td>2.103e+04</td>\n",
       "</tr>\n",
       "<tr>\n",
       "  <th>Df Model:</th>              <td>     1</td>      <th>                     </th>     <td> </td>    \n",
       "</tr>\n",
       "<tr>\n",
       "  <th>Covariance Type:</th>      <td>nonrobust</td>    <th>                     </th>     <td> </td>    \n",
       "</tr>\n",
       "</table>\n",
       "<table class=\"simpletable\">\n",
       "<tr>\n",
       "    <td></td>       <th>coef</th>     <th>std err</th>      <th>t</th>      <th>P>|t|</th>  <th>[0.025</th>    <th>0.975]</th>  \n",
       "</tr>\n",
       "<tr>\n",
       "  <th>const</th> <td> 5.902e+04</td> <td>  744.576</td> <td>   79.260</td> <td> 0.000</td> <td> 5.76e+04</td> <td> 6.05e+04</td>\n",
       "</tr>\n",
       "<tr>\n",
       "  <th>x1</th>    <td>    1.7423</td> <td>    1.154</td> <td>    1.509</td> <td> 0.132</td> <td>   -0.523</td> <td>    4.008</td>\n",
       "</tr>\n",
       "</table>\n",
       "<table class=\"simpletable\">\n",
       "<tr>\n",
       "  <th>Omnibus:</th>       <td> 1.692</td> <th>  Durbin-Watson:     </th> <td>   2.028</td>\n",
       "</tr>\n",
       "<tr>\n",
       "  <th>Prob(Omnibus):</th> <td> 0.429</td> <th>  Jarque-Bera (JB):  </th> <td>   1.655</td>\n",
       "</tr>\n",
       "<tr>\n",
       "  <th>Skew:</th>          <td> 0.009</td> <th>  Prob(JB):          </th> <td>   0.437</td>\n",
       "</tr>\n",
       "<tr>\n",
       "  <th>Kurtosis:</th>      <td> 3.198</td> <th>  Cond. No.          </th> <td>1.71e+03</td>\n",
       "</tr>\n",
       "</table><br/><br/>Warnings:<br/>[1] Standard Errors assume that the covariance matrix of the errors is correctly specified.<br/>[2] The condition number is large, 1.71e+03. This might indicate that there are<br/>strong multicollinearity or other numerical problems."
      ],
      "text/plain": [
       "<class 'statsmodels.iolib.summary.Summary'>\n",
       "\"\"\"\n",
       "                            OLS Regression Results                            \n",
       "==============================================================================\n",
       "Dep. Variable:                      y   R-squared:                       0.002\n",
       "Model:                            OLS   Adj. R-squared:                  0.001\n",
       "Method:                 Least Squares   F-statistic:                     2.277\n",
       "Date:                Thu, 11 Oct 2018   Prob (F-statistic):              0.132\n",
       "Time:                        14:03:33   Log-Likelihood:                -10507.\n",
       "No. Observations:                1000   AIC:                         2.102e+04\n",
       "Df Residuals:                     998   BIC:                         2.103e+04\n",
       "Df Model:                           1                                         \n",
       "Covariance Type:            nonrobust                                         \n",
       "==============================================================================\n",
       "                 coef    std err          t      P>|t|      [0.025      0.975]\n",
       "------------------------------------------------------------------------------\n",
       "const       5.902e+04    744.576     79.260      0.000    5.76e+04    6.05e+04\n",
       "x1             1.7423      1.154      1.509      0.132      -0.523       4.008\n",
       "==============================================================================\n",
       "Omnibus:                        1.692   Durbin-Watson:                   2.028\n",
       "Prob(Omnibus):                  0.429   Jarque-Bera (JB):                1.655\n",
       "Skew:                           0.009   Prob(JB):                        0.437\n",
       "Kurtosis:                       3.198   Cond. No.                     1.71e+03\n",
       "==============================================================================\n",
       "\n",
       "Warnings:\n",
       "[1] Standard Errors assume that the covariance matrix of the errors is correctly specified.\n",
       "[2] The condition number is large, 1.71e+03. This might indicate that there are\n",
       "strong multicollinearity or other numerical problems.\n",
       "\"\"\""
      ]
     },
     "execution_count": 6,
     "metadata": {},
     "output_type": "execute_result"
    }
   ],
   "source": [
    "IncomeIntel = pd.read_csv('IncomeIntel.txt', header=None)\n",
    "IncomeIntel_ary  = IncomeIntel.values\n",
    "gre_qnt = IncomeIntel_ary[:,1]\n",
    "salary_p4 = IncomeIntel_ary[:,2]\n",
    "x =  sm.add_constant(gre_qnt)\n",
    "\n",
    "model_incomeintel = sm.OLS(salary_p4, x).fit()\n",
    "\n",
    "model_incomeintel.summary()"
   ]
  },
  {
   "cell_type": "markdown",
   "metadata": {},
   "source": [
    "As can be seen from the summary chart, the estimated coefficients are $\\beta_0=59020$ and $\\beta_1=1.7423$, the corresponding standard errors are 744.576 and 1.154\n",
    "\n",
    "## (b)"
   ]
  },
  {
   "cell_type": "code",
   "execution_count": 7,
   "metadata": {},
   "outputs": [
    {
     "data": {
      "text/plain": [
       "<matplotlib.collections.PathCollection at 0x10d219b70>"
      ]
     },
     "execution_count": 7,
     "metadata": {},
     "output_type": "execute_result"
    },
    {
     "data": {
      "image/png": "[encoded data removed]",
      "text/plain": [
       "<Figure size 432x288 with 1 Axes>"
      ]
     },
     "metadata": {},
     "output_type": "display_data"
    }
   ],
   "source": [
    "import matplotlib.pyplot as plt\n",
    "plt.scatter(IncomeIntel_ary[:,0], gre_qnt)"
   ]
  },
  {
   "cell_type": "markdown",
   "metadata": {},
   "source": [
    "A drift in the GRE quantitative score scale happened in 2011, which will affect the estimated coefficients and the statistical significance of the regression results. A change in variable scale means that the coefficients in the two time period are different. A solution to this problem is to standardize the GRE quantitative score by z score within each year. Instead of using the raw score, we use the relative score, which is not affected by the change of scale."
   ]
  },
  {
   "cell_type": "code",
   "execution_count": 8,
   "metadata": {},
   "outputs": [],
   "source": [
    "IncomeIntel.columns = ['grad_year', 'gre_qnt', 'salary_p4']"
   ]
  },
  {
   "cell_type": "code",
   "execution_count": 9,
   "metadata": {},
   "outputs": [],
   "source": [
    "IncomeIntel['gre_qnt'] = IncomeIntel.groupby('grad_year').transform(lambda x: (x - x.mean()) / x.std())['gre_qnt']\n",
    "\n",
    "gre_qnt_new = IncomeIntel['gre_qnt'].values\n",
    "\n",
    "x_new =  sm.add_constant(gre_qnt_new)"
   ]
  },
  {
   "cell_type": "markdown",
   "metadata": {},
   "source": [
    "## (c)"
   ]
  },
  {
   "cell_type": "code",
   "execution_count": 10,
   "metadata": {},
   "outputs": [
    {
     "data": {
      "text/plain": [
       "<matplotlib.collections.PathCollection at 0x1c138d94a8>"
      ]
     },
     "execution_count": 10,
     "metadata": {},
     "output_type": "execute_result"
    },
    {
     "data": {
      "image/png": "[encoded data removed]",
      "text/plain": [
       "<Figure size 432x288 with 1 Axes>"
      ]
     },
     "metadata": {},
     "output_type": "display_data"
    }
   ],
   "source": [
    "plt.scatter(IncomeIntel_ary[:,0], salary_p4)"
   ]
  },
  {
   "cell_type": "code",
   "execution_count": 11,
   "metadata": {},
   "outputs": [
    {
     "data": {
      "text/html": [
       "<div>\n",
       "<style scoped>\n",
       "    .dataframe tbody tr th:only-of-type {\n",
       "        vertical-align: middle;\n",
       "    }\n",
       "\n",
       "    .dataframe tbody tr th {\n",
       "        vertical-align: top;\n",
       "    }\n",
       "\n",
       "    .dataframe thead th {\n",
       "        text-align: right;\n",
       "    }\n",
       "</style>\n",
       "<table border=\"1\" class=\"dataframe\">\n",
       "  <thead>\n",
       "    <tr style=\"text-align: right;\">\n",
       "      <th></th>\n",
       "      <th>gre_qnt</th>\n",
       "      <th>salary_p4</th>\n",
       "    </tr>\n",
       "    <tr>\n",
       "      <th>grad_year</th>\n",
       "      <th></th>\n",
       "      <th></th>\n",
       "    </tr>\n",
       "  </thead>\n",
       "  <tbody>\n",
       "    <tr>\n",
       "      <th>2001.0</th>\n",
       "      <td>-2.275642e-15</td>\n",
       "      <td>60838.451338</td>\n",
       "    </tr>\n",
       "    <tr>\n",
       "      <th>2002.0</th>\n",
       "      <td>2.390945e-15</td>\n",
       "      <td>59153.892438</td>\n",
       "    </tr>\n",
       "    <tr>\n",
       "      <th>2003.0</th>\n",
       "      <td>1.047791e-14</td>\n",
       "      <td>61933.955229</td>\n",
       "    </tr>\n",
       "    <tr>\n",
       "      <th>2004.0</th>\n",
       "      <td>9.005783e-15</td>\n",
       "      <td>60082.972426</td>\n",
       "    </tr>\n",
       "    <tr>\n",
       "      <th>2005.0</th>\n",
       "      <td>-3.734387e-15</td>\n",
       "      <td>60446.862671</td>\n",
       "    </tr>\n",
       "    <tr>\n",
       "      <th>2006.0</th>\n",
       "      <td>3.771875e-15</td>\n",
       "      <td>59879.706881</td>\n",
       "    </tr>\n",
       "    <tr>\n",
       "      <th>2007.0</th>\n",
       "      <td>1.089172e-14</td>\n",
       "      <td>59527.961768</td>\n",
       "    </tr>\n",
       "    <tr>\n",
       "      <th>2008.0</th>\n",
       "      <td>8.398765e-17</td>\n",
       "      <td>60204.841721</td>\n",
       "    </tr>\n",
       "    <tr>\n",
       "      <th>2009.0</th>\n",
       "      <td>1.214036e-15</td>\n",
       "      <td>59972.927510</td>\n",
       "    </tr>\n",
       "    <tr>\n",
       "      <th>2010.0</th>\n",
       "      <td>-8.756343e-15</td>\n",
       "      <td>60739.635733</td>\n",
       "    </tr>\n",
       "    <tr>\n",
       "      <th>2011.0</th>\n",
       "      <td>5.998088e-15</td>\n",
       "      <td>59583.988081</td>\n",
       "    </tr>\n",
       "    <tr>\n",
       "      <th>2012.0</th>\n",
       "      <td>-6.821383e-15</td>\n",
       "      <td>59695.533374</td>\n",
       "    </tr>\n",
       "    <tr>\n",
       "      <th>2013.0</th>\n",
       "      <td>1.549638e-14</td>\n",
       "      <td>58654.483748</td>\n",
       "    </tr>\n",
       "  </tbody>\n",
       "</table>\n",
       "</div>"
      ],
      "text/plain": [
       "                gre_qnt     salary_p4\n",
       "grad_year                            \n",
       "2001.0    -2.275642e-15  60838.451338\n",
       "2002.0     2.390945e-15  59153.892438\n",
       "2003.0     1.047791e-14  61933.955229\n",
       "2004.0     9.005783e-15  60082.972426\n",
       "2005.0    -3.734387e-15  60446.862671\n",
       "2006.0     3.771875e-15  59879.706881\n",
       "2007.0     1.089172e-14  59527.961768\n",
       "2008.0     8.398765e-17  60204.841721\n",
       "2009.0     1.214036e-15  59972.927510\n",
       "2010.0    -8.756343e-15  60739.635733\n",
       "2011.0     5.998088e-15  59583.988081\n",
       "2012.0    -6.821383e-15  59695.533374\n",
       "2013.0     1.549638e-14  58654.483748"
      ]
     },
     "execution_count": 11,
     "metadata": {},
     "output_type": "execute_result"
    }
   ],
   "source": [
    " IncomeIntel.groupby('grad_year').mean()"
   ]
  },
  {
   "cell_type": "markdown",
   "metadata": {},
   "source": [
    "From the scatter plot and the chart above, we can see that although very slightly, the mean of the salary over years are changing. To make the salary data stationary over time, we standardize the salary by the following equation:\n",
    "\n",
    "$standardized(salary_{ti}) = salary_{ti} \\frac{mean(salary_{2001})}{mean(salary_t)}$"
   ]
  },
  {
   "cell_type": "code",
   "execution_count": 14,
   "metadata": {},
   "outputs": [],
   "source": [
    "mean2001 = IncomeIntel.groupby('grad_year').mean().loc[2001.0, 'salary_p4']\n",
    "\n",
    "IncomeIntel['salary_p4'] = IncomeIntel.groupby('grad_year').transform(lambda x: x*mean2001/x.mean())['salary_p4'] \n",
    "salary_p4_new = IncomeIntel['salary_p4'].values"
   ]
  },
  {
   "cell_type": "markdown",
   "metadata": {},
   "source": [
    "## (d)"
   ]
  },
  {
   "cell_type": "code",
   "execution_count": 15,
   "metadata": {},
   "outputs": [
    {
     "data": {
      "text/html": [
       "<table class=\"simpletable\">\n",
       "<caption>OLS Regression Results</caption>\n",
       "<tr>\n",
       "  <th>Dep. Variable:</th>            <td>y</td>        <th>  R-squared:         </th> <td>   0.001</td> \n",
       "</tr>\n",
       "<tr>\n",
       "  <th>Model:</th>                   <td>OLS</td>       <th>  Adj. R-squared:    </th> <td>  -0.000</td> \n",
       "</tr>\n",
       "<tr>\n",
       "  <th>Method:</th>             <td>Least Squares</td>  <th>  F-statistic:       </th> <td>  0.7072</td> \n",
       "</tr>\n",
       "<tr>\n",
       "  <th>Date:</th>             <td>Thu, 11 Oct 2018</td> <th>  Prob (F-statistic):</th>  <td> 0.401</td>  \n",
       "</tr>\n",
       "<tr>\n",
       "  <th>Time:</th>                 <td>14:05:32</td>     <th>  Log-Likelihood:    </th> <td> -10518.</td> \n",
       "</tr>\n",
       "<tr>\n",
       "  <th>No. Observations:</th>      <td>  1000</td>      <th>  AIC:               </th> <td>2.104e+04</td>\n",
       "</tr>\n",
       "<tr>\n",
       "  <th>Df Residuals:</th>          <td>   998</td>      <th>  BIC:               </th> <td>2.105e+04</td>\n",
       "</tr>\n",
       "<tr>\n",
       "  <th>Df Model:</th>              <td>     1</td>      <th>                     </th>     <td> </td>    \n",
       "</tr>\n",
       "<tr>\n",
       "  <th>Covariance Type:</th>      <td>nonrobust</td>    <th>                     </th>     <td> </td>    \n",
       "</tr>\n",
       "</table>\n",
       "<table class=\"simpletable\">\n",
       "<tr>\n",
       "    <td></td>       <th>coef</th>     <th>std err</th>      <th>t</th>      <th>P>|t|</th>  <th>[0.025</th>    <th>0.975]</th>  \n",
       "</tr>\n",
       "<tr>\n",
       "  <th>const</th> <td> 6.084e+04</td> <td>  283.227</td> <td>  214.804</td> <td> 0.000</td> <td> 6.03e+04</td> <td> 6.14e+04</td>\n",
       "</tr>\n",
       "<tr>\n",
       "  <th>x1</th>    <td>  239.7432</td> <td>  285.086</td> <td>    0.841</td> <td> 0.401</td> <td> -319.695</td> <td>  799.181</td>\n",
       "</tr>\n",
       "</table>\n",
       "<table class=\"simpletable\">\n",
       "<tr>\n",
       "  <th>Omnibus:</th>       <td> 1.816</td> <th>  Durbin-Watson:     </th> <td>   2.042</td>\n",
       "</tr>\n",
       "<tr>\n",
       "  <th>Prob(Omnibus):</th> <td> 0.403</td> <th>  Jarque-Bera (JB):  </th> <td>   1.797</td>\n",
       "</tr>\n",
       "<tr>\n",
       "  <th>Skew:</th>          <td> 0.014</td> <th>  Prob(JB):          </th> <td>   0.407</td>\n",
       "</tr>\n",
       "<tr>\n",
       "  <th>Kurtosis:</th>      <td> 3.206</td> <th>  Cond. No.          </th> <td>    1.01</td>\n",
       "</tr>\n",
       "</table><br/><br/>Warnings:<br/>[1] Standard Errors assume that the covariance matrix of the errors is correctly specified."
      ],
      "text/plain": [
       "<class 'statsmodels.iolib.summary.Summary'>\n",
       "\"\"\"\n",
       "                            OLS Regression Results                            \n",
       "==============================================================================\n",
       "Dep. Variable:                      y   R-squared:                       0.001\n",
       "Model:                            OLS   Adj. R-squared:                 -0.000\n",
       "Method:                 Least Squares   F-statistic:                    0.7072\n",
       "Date:                Thu, 11 Oct 2018   Prob (F-statistic):              0.401\n",
       "Time:                        14:05:32   Log-Likelihood:                -10518.\n",
       "No. Observations:                1000   AIC:                         2.104e+04\n",
       "Df Residuals:                     998   BIC:                         2.105e+04\n",
       "Df Model:                           1                                         \n",
       "Covariance Type:            nonrobust                                         \n",
       "==============================================================================\n",
       "                 coef    std err          t      P>|t|      [0.025      0.975]\n",
       "------------------------------------------------------------------------------\n",
       "const       6.084e+04    283.227    214.804      0.000    6.03e+04    6.14e+04\n",
       "x1           239.7432    285.086      0.841      0.401    -319.695     799.181\n",
       "==============================================================================\n",
       "Omnibus:                        1.816   Durbin-Watson:                   2.042\n",
       "Prob(Omnibus):                  0.403   Jarque-Bera (JB):                1.797\n",
       "Skew:                           0.014   Prob(JB):                        0.407\n",
       "Kurtosis:                       3.206   Cond. No.                         1.01\n",
       "==============================================================================\n",
       "\n",
       "Warnings:\n",
       "[1] Standard Errors assume that the covariance matrix of the errors is correctly specified.\n",
       "\"\"\""
      ]
     },
     "execution_count": 15,
     "metadata": {},
     "output_type": "execute_result"
    }
   ],
   "source": [
    "model_incomeintel_new = sm.OLS(salary_p4_new, x_new).fit()\n",
    "\n",
    "model_incomeintel_new.summary()"
   ]
  },
  {
   "cell_type": "markdown",
   "metadata": {},
   "source": [
    "As can be seen from the summary chart, the estimated coefficients are $\\beta_0=60840$ and $\\beta_1=239.7432$, the corresponding standard errors are 283.227 and 285.086. $\\beta_0$ and its std don't change much but $\\beta_1$ and its std in the new regression are over 100 times of those in the original regression. That's because the standardization we did to the GRE quantitative score decreased the scale of this data by over 100 times, while the standardization we did to the salary didn't change the overall scale of it. Since the coefficient $\\beta_1$ is not statistically significant, the regression result gives no evidence that higher intelligence is associated with higher income."
   ]
  },
  {
   "cell_type": "markdown",
   "metadata": {},
   "source": [
    "# Assessment of Koissinets and Watts"
   ]
  },
  {
   "cell_type": "markdown",
   "metadata": {},
   "source": [
    "## (a)\n",
    "What roles do choice homophily and induced homophily play in the emergency of homophily (the observed tendency of people associating with similar people) through the process of individuals in a social network seletively make or break ties with others?"
   ]
  },
  {
   "cell_type": "markdown",
   "metadata": {},
   "source": [
    "## (b)\n",
    "The data is based on the population of 30,396 undergraduate and graduate students, faculty, and staff in a large U.S. university, consisting of 3 datasets: \n",
    "1. the logs of e-mail interactions within the university over one academic year, \n",
    "2. a database of individual attributes (status, gender, age, department, number of years in the community, etc.),\n",
    "3. records of course registration\n",
    "\n",
    "The number of observations is 30396 for personal characteristics, organizational affiliations, and course-related variables. The total number of email interaction is 7,156,162. And the time period of the data is 270 days.\n",
    "\n",
    "In APPENDIX A, we can find a description and definition of all variables."
   ]
  },
  {
   "cell_type": "markdown",
   "metadata": {},
   "source": [
    "## (c)\n",
    "To ensure that the data represent interpersonal communication, the authors included only email messages that were sent to a single recipient. This cleared away about 18% of all emails. But in a university context, group emails actually contain a lot of interpersonal communication. For example professors often email their research assistant in a group rather than in person, so that people in the group will know what each other is doing. This might be a unique type of interpersonal communication and eliminating it can lead to loss of a propable source of homophily."
   ]
  },
  {
   "cell_type": "markdown",
   "metadata": {},
   "source": [
    "## (d)\n",
    "E-mail exchanges comprise discrete and intermittent “spike trains” that are often “bursty” in nature (Cortes et al. 2003; Eckmann, Moses, and Sergi 2004). It's hard to decide the timing of the formation and dissolution a social link based on a time series of email exchanges between two persons. To address this problem, the authors defined the instantaneous strength of a dyad at time t based on the number of email exchanges in time window $\\tau$ and sampling period $\\delta$. By carefully choosing $\\tau$, they decide the maximum time at which a past interaction is assumed to contribute to the current strength of relationship. And $\\delta$ determines whether events separated in time will be treated as sequential or as simultaneous with one another."
   ]
  }
 ],
 "metadata": {
  "kernelspec": {
   "display_name": "Python 3",
   "language": "python",
   "name": "python3"
  },
  "language_info": {
   "codemirror_mode": {
    "name": "ipython",
    "version": 3
   },
   "file_extension": ".py",
   "mimetype": "text/x-python",
   "name": "python",
   "nbconvert_exporter": "python",
   "pygments_lexer": "ipython3",
   "version": "3.6.5"
  }
 },
 "nbformat": 4,
 "nbformat_minor": 2
}
